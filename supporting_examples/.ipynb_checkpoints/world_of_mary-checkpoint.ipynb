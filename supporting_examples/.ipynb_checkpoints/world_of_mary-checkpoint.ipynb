{
 "cells": [
  {
   "cell_type": "code",
   "execution_count": 37,
   "metadata": {},
   "outputs": [],
   "source": [
    "import networkx as nx\n",
    "import matplotlib.pyplot as plt\n",
    "def world_of_mary():\n",
    "    DG = nx.DiGraph()\n",
    "    #DG.add_nodes_from(('Mary', 'Tom','Joe', 'potato', 'putine', 'cheese'))\n",
    "    DG.add_edges_from([('Joe','Mary'), \n",
    "                       ('Tom','Mary'), \n",
    "                       ('poutine', 'cheese'), \n",
    "                       ('poutine', 'gravy'), \n",
    "                       ('potato', 'veg'),\n",
    "                       ('poutine', 'potato'),\n",
    "                       ('Tom', 'potato'),\n",
    "                       ('gravy', 'meat'),\n",
    "                       ('Tom', 'vegtrn'),\n",
    "                       ('Tom', 'cheese'),\n",
    "                       ('Mary', 'cheese'),\n",
    "                       ('Joe', 'cheese'),\n",
    "                       ('amazon', 'workplace'),\n",
    "                       ('Tom', 'amazon'),\n",
    "                       ('Joe', 'Amazon'),\n",
    "                       ('Tom', 'Joe'),\n",
    "                       ('Mary', 'amazon'),\n",
    "                       ('Mary', 'vegtrn')], length=8)\n",
    "    edge_labels = {('Joe','Mary'): 'loves',\n",
    "                   ('Tom', 'Mary'):'sibling',\n",
    "                   ('poutine', 'cheese'):'contains', \n",
    "                   ('poutine', 'gravy'):'contains', \n",
    "                   ('potato', 'veg'):'is',\n",
    "                   ('poutine', 'potato'): 'contains',\n",
    "                   ('Tom', 'potato'): 'likes',\n",
    "                   ('Tom', 'cheese'): 'likes',\n",
    "                   ('Joe', 'cheese'): 'likes',\n",
    "                   ('Mary', 'cheese'): 'likes',\n",
    "                   ('gravy', 'meat'): 'contains',\n",
    "                   ('Tom', 'vegtrn'): 'is',\n",
    "                   ('amazon', 'workplace'): 'is',\n",
    "                   ('Tom', 'amazon'): 'works',\n",
    "                   ('Joe', 'amazon'): 'works',\n",
    "                   ('Mary', 'amazon'): 'works',\n",
    "                   ('Tom', 'Joe'): 'friends',\n",
    "                   ('Tom', 'Joe'): 'colleagues',\n",
    "                   ('Mary', 'vegtrn'):'is'}\n",
    "    #labels={node:node for node in DG.nodes()}\n",
    "    pos = nx.spring_layout(DG)\n",
    "    plt.figure(figsize=(20,20))  \n",
    "    nx.draw(DG, pos=pos, edge_color='black',width=1,linewidths=1,\n",
    "            node_size=3500,node_color='black',alpha=0.9, font_color='w', \n",
    "            font_size=16,\n",
    "            labels={node:node for node in DG.nodes()})\n",
    "    nx.draw_networkx_edge_labels(DG, pos, edge_labels=edge_labels,font_color='red', font_size=16, length=17)\n",
    "    plt.axis('off')\n",
    "    plt.show()"
   ]
  }
 ],
 "metadata": {
  "kernelspec": {
   "display_name": "Python 3",
   "language": "python",
   "name": "python3"
  },
  "language_info": {
   "codemirror_mode": {
    "name": "ipython",
    "version": 3
   },
   "file_extension": ".py",
   "mimetype": "text/x-python",
   "name": "python",
   "nbconvert_exporter": "python",
   "pygments_lexer": "ipython3",
   "version": "3.6.8"
  }
 },
 "nbformat": 4,
 "nbformat_minor": 2
}
